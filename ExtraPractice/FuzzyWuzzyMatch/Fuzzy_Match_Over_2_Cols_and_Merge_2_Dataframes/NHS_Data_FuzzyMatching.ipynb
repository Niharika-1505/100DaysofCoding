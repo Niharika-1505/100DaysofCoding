{
  "nbformat": 4,
  "nbformat_minor": 0,
  "metadata": {
    "colab": {
      "name": "FuzzyMatching.ipynb",
      "provenance": [],
      "collapsed_sections": []
    },
    "kernelspec": {
      "name": "python3",
      "display_name": "Python 3"
    },
    "language_info": {
      "name": "python"
    }
  },
  "cells": [
    {
      "cell_type": "markdown",
      "source": [
        "# Practicing"
      ],
      "metadata": {
        "id": "XTK1uyn59vbD"
      }
    },
    {
      "cell_type": "code",
      "source": [
        "pip install fuzzywuzzy"
      ],
      "metadata": {
        "id": "UWw4l2-r-a1R"
      },
      "execution_count": null,
      "outputs": []
    },
    {
      "cell_type": "code",
      "source": [
        "import pandas as pd\n",
        "from fuzzywuzzy import fuzz\n",
        "from fuzzywuzzy import process\n",
        "from  itertools import product\n",
        "import difflib"
      ],
      "metadata": {
        "id": "WphmNntc-K8H"
      },
      "execution_count": null,
      "outputs": []
    },
    {
      "cell_type": "markdown",
      "source": [
        "**egpcur.csv**"
      ],
      "metadata": {
        "id": "WatAARwG3l0Q"
      }
    },
    {
      "cell_type": "code",
      "source": [
        "egpcur_main_df = pd.read_csv(\"egpcur.csv\", header=0, names=['Organisation Code','Name','National Grouping','HighLevel Health Geography','Address_Line_1','Address_Line_2','Address_Line_3','Address_Line_4','Address_Line_5','Postcode','Open Date','Close Date','Status Code','Organisation Sub-Type Code','Parent Organisation Code','Join Parent Date','Left Parent Date','Contact Telephone Number','Empty1','Empty2','Empty3','Amended Record Indicator','Empty4','Current Care Organisation','Empty5','Empty6','Empty7'])\n",
        "egpcur_df_1 = egpcur_main_df.drop(egpcur_main_df.columns.difference(['Organisation Code', 'Name', 'Address_Line_1', 'Address_Line_2', 'Address_Line_3', 'Address_Line_4', 'Address_Line_5', 'Postcode']),axis=1)\n",
        "egpcur_df_copy = egpcur_df_1.copy()\n",
        "\n",
        "cols =['Address_Line_1', 'Address_Line_2', 'Address_Line_3', 'Address_Line_4', 'Address_Line_5']\n",
        "\n",
        "egpcur_df_copy['Address'] = egpcur_df_copy[cols].apply(lambda x: ', '.join(x.dropna()), axis=1)\n",
        "\n",
        "egpcur_df_copy = egpcur_df_copy.drop(['Address_Line_1', 'Address_Line_2', 'Address_Line_3', 'Address_Line_4', 'Address_Line_5'], axis=1)\n",
        "\n",
        "egpcur_df_copy = egpcur_df_copy.dropna(how = 'all')\n",
        "egpcur_df_copy = egpcur_df_copy.drop_duplicates(subset = egpcur_df_copy.columns.difference(['Organisation Code']))\n",
        "\n",
        "egpcur_df = egpcur_df_copy.copy()\n",
        "egpcur_df.to_csv(\"egpcur1.csv\")"
      ],
      "metadata": {
        "id": "8Imio0cPiSpo",
        "colab": {
          "base_uri": "https://localhost:8080/"
        },
        "outputId": "751cd74a-3eaa-4a93-f1ad-16fbe365eabf"
      },
      "execution_count": null,
      "outputs": [
        {
          "output_type": "stream",
          "name": "stderr",
          "text": [
            "/usr/local/lib/python3.7/dist-packages/IPython/core/interactiveshell.py:2882: DtypeWarning: Columns (8) have mixed types.Specify dtype option on import or set low_memory=False.\n",
            "  exec(code_obj, self.user_global_ns, self.user_ns)\n"
          ]
        }
      ]
    },
    {
      "cell_type": "markdown",
      "source": [
        "**epraccur.csv**"
      ],
      "metadata": {
        "id": "MQCpJH2R3r11"
      }
    },
    {
      "cell_type": "code",
      "source": [
        "epraccur_main_df = pd.read_csv(\"epraccur.csv\", header=0, names=['Organisation Code','Name','National Grouping','High Level Health Geography','Address_Line_1','Address_Line_2','Address_Line_3','Address_Line_4','Address_Line_5','Postcode','Open Date','Close Date','Status Code','Organisation Sub-Type Code','Commissioner','Join Provider/Purchaser Date','Left Provider/Purchaser Date','Contact Telephone Number','Empty1','Empty2','Empty3','Amended Record Indicator','Empty4','Provider/Purchaser','Empty5','Prescribing Setting','Empty6'])\n",
        "epraccur_df_1 = epraccur_main_df.drop(epraccur_main_df.columns.difference(['Organisation Code', 'Name', 'Address_Line_1', 'Address_Line_2', 'Address_Line_3', 'Address_Line_4','Address_Line_5', 'Postcode']),axis=1)\n",
        "epraccur_df_copy = epraccur_df_1.copy()\n",
        "\n",
        "cols =['Address_Line_1', 'Address_Line_2', 'Address_Line_3', 'Address_Line_4', 'Address_Line_5']\n",
        "epraccur_df_copy['Address'] = epraccur_df_copy[cols].apply(lambda x: ', '.join(x.dropna()), axis=1)\n",
        "epraccur_df_copy = epraccur_df_copy.drop(['Address_Line_1', 'Address_Line_2', 'Address_Line_3', 'Address_Line_4', 'Address_Line_5'], axis=1)\n",
        "\n",
        "epraccur_df_copy = epraccur_df_copy.dropna(how = 'all')\n",
        "epraccur_df_copy = epraccur_df_copy.drop_duplicates(subset = epraccur_df_copy.columns.difference(['Organisation Code']))\n",
        "\n",
        "epraccur_df = epraccur_df_copy.copy()\n",
        "epraccur_df.to_csv(\"epraccur1.csv\")"
      ],
      "metadata": {
        "id": "wm8LQKan1C6s"
      },
      "execution_count": null,
      "outputs": []
    },
    {
      "cell_type": "markdown",
      "source": [
        "**etr.csv**"
      ],
      "metadata": {
        "id": "HPFUTKAF5cXn"
      }
    },
    {
      "cell_type": "code",
      "source": [
        "etr_main_df = pd.read_csv(\"etr.csv\", header=0, names=['Organisation Code','Name','National Grouping','High Level Health Geography','Address_Line_1','Address_Line_2','Address_Line_3','Address_Line_4','Address_Line_5','Postcode','Open Date','Close Date','Empty1','Empty2','Empty3','Empty4','Empty5','Contact Telephone Number','Empty6','Empty7','Empty8','Amended Record Indicator','Empty9','GOR code','Empty10','Empty11','Empty12'])\n",
        "etr_df_1 = epraccur_main_df.drop(epraccur_main_df.columns.difference(['Organisation Code', 'Name', 'Address_Line_1', 'Address_Line_2', 'Address_Line_3', 'Address_Line_4','Address_Line_5', 'Postcode']),axis=1)\n",
        "\n",
        "etr_df_copy = etr_df_1.copy()\n",
        "cols =['Address_Line_1', 'Address_Line_2', 'Address_Line_3', 'Address_Line_4', 'Address_Line_5']\n",
        "etr_df_copy['Address'] = etr_df_copy[cols].apply(lambda x: ', '.join(x.dropna()), axis=1)\n",
        "\n",
        "etr_df_copy = etr_df_copy.drop(['Address_Line_1', 'Address_Line_2', 'Address_Line_3', 'Address_Line_4', 'Address_Line_5'], axis=1)\n",
        "\n",
        "etr_df_copy = etr_df_copy.dropna(how = 'all')\n",
        "etr_df_copy = etr_df_copy.drop_duplicates(subset = etr_df_copy.columns.difference(['Organisation Code']))\n",
        "\n",
        "etr_df = etr_df_copy.copy()\n",
        "etr_df.to_csv(\"etr1.csv\")"
      ],
      "metadata": {
        "id": "HqOxY_pe2dTL"
      },
      "execution_count": null,
      "outputs": []
    },
    {
      "cell_type": "markdown",
      "source": [
        "**etrust.csv**"
      ],
      "metadata": {
        "id": "VoMrIpD47czr"
      }
    },
    {
      "cell_type": "code",
      "source": [
        "etrust_main_df = pd.read_csv(\"etrust.csv\", header=0, names=['Organisation Code','Name','National Grouping','High Level Health Geography','Address_Line_1','Address_Line_2','Address_Line_3','Address_Line_4','Address_Line_5','Postcode','Open Date','Close Date','Empty1','Empty2','Empty3','Empty4','Empty5','Contact Telephone Number','Empty6','Empty7','Empty8','Amended Record Indicator','Empty9','GOR Code','Empty10','Empty11','Empty12'])\n",
        "etrust_df_1 = etrust_main_df.drop(etrust_main_df.columns.difference(['Organisation Code', 'Name', 'Address_Line_1', 'Address_Line_2', 'Address_Line_3', 'Address_Line_4','Address_Line_5', 'Postcode']),axis=1)\n",
        "\n",
        "etrust_df_copy = etrust_df_1.copy()\n",
        "cols =['Address_Line_1', 'Address_Line_2', 'Address_Line_3', 'Address_Line_4', 'Address_Line_5']\n",
        "etrust_df_copy['Address'] = etrust_df_copy[cols].apply(lambda x: ', '.join(x.dropna()), axis=1)\n",
        "\n",
        "etrust_df_copy = etrust_df_copy.drop(['Address_Line_1', 'Address_Line_2', 'Address_Line_3', 'Address_Line_4', 'Address_Line_5'], axis=1)\n",
        "\n",
        "etrust_df_copy = etrust_df_copy.dropna(how = 'all')\n",
        "etrust_df_copy = etrust_df_copy.drop_duplicates(subset = etrust_df_copy.columns.difference(['Organisation Code']))\n",
        "\n",
        "etrust_df = etrust_df_copy.copy()\n",
        "etrust_df.to_csv(\"etrust1.csv\")"
      ],
      "metadata": {
        "id": "FxULQeu12dPV"
      },
      "execution_count": null,
      "outputs": []
    },
    {
      "cell_type": "markdown",
      "source": [
        "**ets.csv**"
      ],
      "metadata": {
        "id": "xw3rL3Xl76wg"
      }
    },
    {
      "cell_type": "code",
      "source": [
        "ets_main_df = pd.read_csv(\"ets.csv\", header=0, names=['Organisation Code','Name','National Grouping','High Level Health Geography','Address_Line_1','Address_Line_2','Address_Line_3','Address_Line_4','Address_Line_5','Postcode','Open Date','Close Date','Empty1','Organisation Sub-Type Code','Parent Organisation Code','Empty2','Empty3','Contact Telephone Number','Empty4','Empty5','Empty6','Amended Record Indicator','Empty7','GOR Code','Empty8','Empty9','Empty10'])\n",
        "ets_df_1 = ets_main_df.drop(ets_main_df.columns.difference(['Organisation Code', 'Name', 'Address_Line_1', 'Address_Line_2', 'Address_Line_3', 'Address_Line_4','Address_Line_5', 'Postcode']),axis=1)\n",
        "\n",
        "ets_df_copy = ets_df_1.copy()\n",
        "cols =['Address_Line_1', 'Address_Line_2', 'Address_Line_3', 'Address_Line_4', 'Address_Line_5']\n",
        "ets_df_copy['Address'] = ets_df_copy[cols].apply(lambda x: ', '.join(x.dropna()), axis=1)\n",
        "\n",
        "ets_df_copy = ets_df_copy.drop(['Address_Line_1', 'Address_Line_2', 'Address_Line_3', 'Address_Line_4', 'Address_Line_5'], axis=1)\n",
        "\n",
        "ets_df_copy = ets_df_copy.dropna(how = 'all')\n",
        "ets_df_copy = ets_df_copy.drop_duplicates(subset = ets_df_copy.columns.difference(['Organisation Code']))\n",
        "\n",
        "ets_df = ets_df_copy.copy()\n",
        "ets_df.to_csv(\"ets1.csv\")"
      ],
      "metadata": {
        "id": "7oCrnKyL788e"
      },
      "execution_count": null,
      "outputs": []
    },
    {
      "cell_type": "code",
      "source": [
        "match_level = 90\n",
        "def find_details(row):\n",
        "    sub_df = epraccur_df[epraccur_df['Postcode'] == row['Postcode'] ].copy()\n",
        "    sub_df['match'] = sub_df['Name'].apply(lambda x: fuzz.token_sort_ratio(row['Name'], x))\n",
        "    sub_df = sub_df[sub_df['match'] >= match_level].sort_values(['match'], ascending=[False])\n",
        "    Organisation_Code = ''\n",
        "    Address = ''\n",
        "    if sub_df.shape[0] > 0:\n",
        "        Organisation_Code = sub_df['Organisation Code'].values[0]\n",
        "        Address = sub_df['Address'].values[0]\n",
        "\n",
        "    ret = {\n",
        "            'Organisation_Code' : Organisation_Code,\n",
        "            'Address': Address\n",
        "          }\n",
        "    return pd.Series(ret)\n",
        "egpcur_epraccur_Merge =egpcur_df.merge(egpcur_df.apply(lambda row: find_details(row), axis=1),  left_index=True, right_index=True)\n",
        "egpcur_epraccur_Merge"
      ],
      "metadata": {
        "id": "8gc9b25SC2qh"
      },
      "execution_count": null,
      "outputs": []
    },
    {
      "cell_type": "code",
      "source": [
        "df1 = pd.DataFrame ({'Restaurant_Name': ['Apple', 'Banana', 'Orange', 'apple','apple1'],\n",
        "                     'Postal Code': [12345, 12345, 54321, 54321,1111],\n",
        "                     'org':['abc','cde','efg','abc','efg'],\n",
        "                     'add':['Address_Line_1', 'Address_Line_2', 'Address_Line_3', 'Address_Line_4', 'Address_Line_5']})\n",
        "df1"
      ],
      "metadata": {
        "id": "3gZ-xWq2AryO"
      },
      "execution_count": null,
      "outputs": []
    },
    {
      "cell_type": "code",
      "source": [
        "df2 = pd.DataFrame({'Restaurant_Name': ['apple', 'apple', 'Banana','Banan'],\n",
        "                     'Postal Code': [12345, 54321, 12345, 12345],\n",
        "                     'Phone':[100,200,300,300],\n",
        "                     'org':['abc','cde','cde','abc'],\n",
        "                     'add':['Address_Line_1', 'Address_Line_2', 'Address_Line_3','Address_Line_4']})\n",
        "df2"
      ],
      "metadata": {
        "id": "eGaND5wxA8U-"
      },
      "execution_count": null,
      "outputs": []
    },
    {
      "cell_type": "code",
      "source": [
        "match_level = 90\n",
        "def find_details(row):\n",
        "    sub_df = df2[df2['Postal Code'] == row['Postal Code'] ].copy()\n",
        "    sub_df['match'] = sub_df['Restaurant_Name'].apply(lambda x: fuzz.token_sort_ratio(row['Restaurant_Name'], x))\n",
        "    sub_df = sub_df[sub_df['match'] >= match_level].sort_values(['match'], ascending=[False])\n",
        "    phone = ''\n",
        "    org =''\n",
        "    add=''\n",
        "    if sub_df.shape[0] > 0:\n",
        "        phone = sub_df['Phone'].values[0]\n",
        "        org = sub_df['org'].values[0]\n",
        "        add = sub_df['add'].values[0]\n",
        "\n",
        "    ret = {\n",
        "        'phone' : phone,\n",
        "        'org' : org,\n",
        "        'add' : add\n",
        "    }\n",
        "    return pd.Series(ret)\n",
        "df1.merge(df1.apply(lambda row: find_details(row), axis=1),  left_index=True, right_index=True)"
      ],
      "metadata": {
        "id": "dXr4Ws1UA7hU"
      },
      "execution_count": null,
      "outputs": []
    }
  ]
}