{
  "nbformat": 4,
  "nbformat_minor": 0,
  "metadata": {
    "colab": {
      "name": "100DaysofCoding.ipynb",
      "provenance": []
    },
    "kernelspec": {
      "name": "python3",
      "display_name": "Python 3"
    },
    "language_info": {
      "name": "python"
    }
  },
  "cells": [
    {
      "cell_type": "markdown",
      "source": [
        "# **Day 71**\n",
        "\n",
        "**Advanced - Data Exploration with pandas: College Major vs Your Salary**"
      ],
      "metadata": {
        "id": "4izdzK19ZyH4"
      }
    },
    {
      "cell_type": "code",
      "source": [
        "import pandas as pd\n",
        "# df=pd.read_csv(\"salaries_by_college_major.csv\")\n",
        "# print(f\"1. Head prints first 5 rows in the dataframe\\n\\n {df.head()}\\n\")\n",
        "# print(f\"2. Shape prints number of rows and columns in the dataframe{df.shape}\\n\")\n",
        "# print(f\"3. Column names: {df.columns}\\n\")\n",
        "# print(f\"4. Are there any missing values in the dataframe:\\n {df.isna()}\\n\")\n",
        "# print(f\"5. Tail prints last 5 rows of the dataframe:\\n {df.tail()}\\n\")\n",
        "# clean_df=df.dropna()\n",
        "# print(f\"6. Last 5 rows after dropping rows with NaN in the dataframe:\\n {clean_df.tail()}\\n\")\n",
        "# print(f\"7. To access one column data in the dataframe:\\n {clean_df['Starting Median Salary']}\")\n",
        "# print(f\"8. Prints maximum value in that column: {clean_df['Starting Median Salary'].max()}\\n\")\n",
        "# print(f\"9. Prints index of the maximum value in that column: {clean_df['Starting Median Salary'].idxmax()}\\n\")\n",
        "# print(f\"10. Prints cell value of a specific column and row: {clean_df['Undergraduate Major'].loc[43]}\\n\")\n",
        "# print(f\"11. Prints cell value of a specific column and row: {clean_df['Undergraduate Major'][43]}\\n\")\n",
        "# print(f\"12. Prints entire row data:\\n\\n{clean_df.loc[43]}\\n\")\n",
        "\n",
        "'''What college major has the highest mid-career salary? How much do graduates with this major earn?'''\n",
        "# College_Major_With_Highest_Mid_Career_Salary=clean_df['Undergraduate Major'].loc[clean_df['Mid-Career Median Salary'].idxmax()]\n",
        "# print(f\"13. What college major has the highest mid-career salary? {College_Major_With_Highest_Mid_Career_Salary}\")\n",
        "\n",
        "'''Which college major has the lowest starting salary and how much do graduates earn after university?'''\n",
        "# print(clean_df)\n",
        "# College_Major_With_Lowest_Starting_Salary=clean_df['Undergraduate Major'][clean_df['Starting Median Salary'].idxmin()]\n",
        "# print(f\"14. Which college major has the lowest starting salary? {College_Major_With_Lowest_Starting_Salary}\")\n",
        "\n",
        "'''Which college major has the lowest mid-career salary and how much can people expect to earn with this degree?'''\n",
        "# College_Major_With_Lowest_Mid_Career_Salary=clean_df.loc[clean_df['Mid-Career Median Salary'].idxmin()]\n",
        "# print(f\"15. What college major has the lowest mid-career salary?\\n {College_Major_With_Lowest_Mid_Career_Salary}\")\n",
        "\n",
        "# print(f\"16. Prints all the rows that meets the condition:\\n\\n {clean_df.loc[clean_df['Mid-Career 10th Percentile Salary'] >= 26000]}\")\n",
        "\n",
        "'''17. Lowest Risk Majors\n",
        "A low-risk major is a degree where there is a small difference between the lowest and highest salaries. In other words, if the difference between the \n",
        "10th percentile and the 90th percentile earnings of your major is small, then you can be more certain about your salary after you graduate.'''\n",
        "# difference_in_salaries=clean_df['Mid-Career 90th Percentile Salary'] - clean_df['Mid-Career 10th Percentile Salary']\n",
        "'''OR can use subtract method '''# clean_df['Mid-Career 90th Percentile Salary'].subtract(clean_df['Mid-Career 10th Percentile Salary'])\n",
        "# clean_df.insert(5,'difference_in_salaries',difference_in_salaries)\n",
        "# low_difference_in_salaries=clean_df.sort_values('difference_in_salaries')\n",
        "# low_difference_in_salaries[['Undergraduate Major', 'difference_in_salaries']].head()\n",
        "\n",
        "\n",
        "'''18. Find the top 5 degrees with the highest values in the 90th percentile. OR Majors with the Highest Potential'''\n",
        "# top_5_degrees=clean_df.sort_values(\"Mid-Career 90th Percentile Salary\", ascending=False)\n",
        "# top_5_degrees[['Undergraduate Major', 'Mid-Career 90th Percentile Salary']].head()\n",
        "\n",
        "'''19. Find the degrees with the greatest spread in salaries. Which majors have the largest difference between high and low earners after graduation. OR \n",
        "Majors with the Greatest Spread in Salaries'''\n",
        "# difference_in_salaries=clean_df['Mid-Career 90th Percentile Salary'].subtract(clean_df['Mid-Career 10th Percentile Salary'])\n",
        "# clean_df.insert(5,'difference_in_salaries',difference_in_salaries)\n",
        "# high_difference_in_salaries=clean_df.sort_values('difference_in_salaries', ascending=False)\n",
        "# high_difference_in_salaries[['Undergraduate Major', 'difference_in_salaries']].head()\n",
        "\n",
        "'''20.Grouping and Pivoting Data with Pandas'''\n",
        "# print(f\"20. Groups By based on columns specified and returns count:\\n\\n{clean_df.groupby('Group').count()}\\n\")\n",
        "# print(f\"21. Groups By based on columns specified and returns sum:\\n\\n{clean_df.groupby('Group').sum()}\\n\")\n",
        "# pd.options.display.float_format = '{:,.2f}'.format #Tells the pandas to round off float values to 2 decimals.\n",
        "# print(f\"22. Groups By based on columns specified and returns mean:\\n\\n{clean_df.groupby('Group').mean()}\\n\")\n",
        "\n",
        "'''23. Extra Credit - webscraping payscale website for payscale dataset '''\n",
        "\n",
        "#Reading page1 table content\n",
        "# Page_url = \"https://www.payscale.com/college-salary-report/majors-that-pay-you-back/bachelors\"\n",
        "# table = pd.read_html(Page_url)\n",
        "# payscale_df = table[0].copy()\n",
        "# payscale_df.columns = [\"Rank\", \"Major\", \"Degree Type\", \"Early Career Pay\", \"Mid-Career Pay\", \"% High Meaning\"]\n",
        "#Reading through the table contents from page2 until the end \n",
        "# for page_number in range(2, 35):\n",
        "#     table = pd.read_html(f\"{Page_url}/page/{page_number}\")\n",
        "#     page_df = table[0].copy()\n",
        "#     page_df.columns = [\"Rank\", \"Major\", \"Degree Type\", \"Early Career Pay\", \"Mid-Career Pay\", \"% High Meaning\"]\n",
        "#     payscale_df = payscale_df.append(page_df, ignore_index=True)\n",
        "\n",
        "# print(f\"24. Prints count, No. of unique rows, Top, frequency\\n\\n{payscale_df.describe()}\")\n",
        "\n",
        "#Cleaning the data\n",
        "# payscale_df[\"Rank\"] = payscale_df[\"Rank\"].str.replace(\"Rank:\", \"\")\n",
        "# payscale_df[\"Major\"] = payscale_df[\"Major\"].str.replace(\"Major:\", \"\")\n",
        "# payscale_df[\"Degree Type\"] = payscale_df[\"Degree Type\"].str.replace(\"Degree Type:\", \"\")\n",
        "# # so $ gets treated as a character\n",
        "# payscale_df[\"Early Career Pay\"] = payscale_df[\"Early Career Pay\"].str.replace(\"Early Career Pay:$\", \"\", regex=False)\n",
        "# payscale_df[\"Early Career Pay\"] = payscale_df[\"Early Career Pay\"].str.replace(\",\", \"\")\n",
        "# payscale_df[\"Mid-Career Pay\"] = payscale_df[\"Mid-Career Pay\"].str.replace(\"Mid-Career Pay:$\", \"\", regex=False)\n",
        "# payscale_df[\"Mid-Career Pay\"] = payscale_df[\"Mid-Career Pay\"].str.replace(\",\", \"\")\n",
        "# payscale_df[\"% High Meaning\"] = payscale_df[\"% High Meaning\"].str.replace(\"% High Meaning:\", \"\")\n",
        "# payscale_df[\"% High Meaning\"] = payscale_df[\"% High Meaning\"].str.replace(\"%\", \"\")\n",
        "\n",
        "# print(f\"25. Prints types of each column in the dataframe:\\n{payscale_df.dtypes}\")\n",
        "\n",
        "#Converting the data types\n",
        "# payscale_df[\"Rank\"] = payscale_df[\"Rank\"].astype(int)\n",
        "# payscale_df[\"Early Career Pay\"] = payscale_df[\"Early Career Pay\"].astype(int)\n",
        "# payscale_df[\"Mid-Career Pay\"] = payscale_df[\"Mid-Career Pay\"].astype(int)\n",
        "\n",
        "#Dataframe to csv\n",
        "# payscale_df.to_csv(\"salaries_by_college_major_29072022.csv\", index=False)\n",
        "\n",
        "data = [\n",
        "    [ 0, [\"a\",\"b\",\"c\"], [1,2,3], 7 ],\n",
        "    [ 1, [\"c\",\"d\",\"e\"], [4,5,6], 7 ],\n",
        "    [ 2, [\"f\",\"g\",\"h\"], [7,8,9], 7 ],\n",
        "    [ 3, [\"i\",\"j\",\"k\"], [10,11,12], 7],\n",
        "    [ 4, [\"l\",\"m\",\"n\"], [13,14,15], 7]\n",
        "]\n",
        "\n",
        "df = pd.DataFrame( data, columns=['one', 'two','three','four'] )\n",
        "df2 = df.explode('two')\n",
        "print(f\"26. Exploded datframe:\\n\\n {df2}\")\n"
      ],
      "metadata": {
        "colab": {
          "base_uri": "https://localhost:8080/"
        },
        "id": "8uGk7NSVaH8d",
        "outputId": "a4b8134c-7997-45fb-e763-fe2f4ac3554b"
      },
      "execution_count": 6,
      "outputs": [
        {
          "output_type": "stream",
          "name": "stdout",
          "text": [
            "26. Exploded datframe:\n",
            "\n",
            "    one two         three  four\n",
            "0    0   a     [1, 2, 3]     7\n",
            "0    0   b     [1, 2, 3]     7\n",
            "0    0   c     [1, 2, 3]     7\n",
            "1    1   c     [4, 5, 6]     7\n",
            "1    1   d     [4, 5, 6]     7\n",
            "1    1   e     [4, 5, 6]     7\n",
            "2    2   f     [7, 8, 9]     7\n",
            "2    2   g     [7, 8, 9]     7\n",
            "2    2   h     [7, 8, 9]     7\n",
            "3    3   i  [10, 11, 12]     7\n",
            "3    3   j  [10, 11, 12]     7\n",
            "3    3   k  [10, 11, 12]     7\n",
            "4    4   l  [13, 14, 15]     7\n",
            "4    4   m  [13, 14, 15]     7\n",
            "4    4   n  [13, 14, 15]     7\n"
          ]
        }
      ]
    },
    {
      "cell_type": "code",
      "source": [
        ""
      ],
      "metadata": {
        "id": "ETxY5v3Ha9Nq"
      },
      "execution_count": null,
      "outputs": []
    }
  ]
}